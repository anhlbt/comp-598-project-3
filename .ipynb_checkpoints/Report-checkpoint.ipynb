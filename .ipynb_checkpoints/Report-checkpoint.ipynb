{
 "metadata": {
  "name": ""
 },
 "nbformat": 3,
 "nbformat_minor": 0,
 "worksheets": [
  {
   "cells": [
    {
     "cell_type": "markdown",
     "metadata": {},
     "source": [
      "#Classifying Textured Digits - Comp 598 Project 3 Report\n",
      "\n",
      "####Stuart Spence, Josh Romoff, Charlie Bloomfield\n",
      "\n",
      "\n",
      "---\n",
      "###1. Abstract\n",
      "\n",
      "---\n",
      "###2. \n",
      "\n",
      "...\n",
      "\n",
      "---\n",
      "###3. Statement of Faith\n",
      "We hereby state that all the work presented in this report is that of the authors.\n",
      "\n",
      "---\n",
      "###4. References"
     ]
    },
    {
     "cell_type": "code",
     "collapsed": false,
     "input": [],
     "language": "python",
     "metadata": {},
     "outputs": []
    }
   ],
   "metadata": {}
  }
 ]
}